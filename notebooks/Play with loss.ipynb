{
 "cells": [
  {
   "cell_type": "code",
   "execution_count": 1,
   "id": "traditional-portugal",
   "metadata": {},
   "outputs": [
    {
     "name": "stdout",
     "output_type": "stream",
     "text": [
      "/home/thien/research/split_pgl\n",
      "Reading '/home/thien/research/datasets/cub/data/waterbird_complete95_forest2water2/metadata.csv'\n"
     ]
    }
   ],
   "source": [
    "%cd ~/research/split_pgl\n",
    "%load_ext autoreload\n",
    "%autoreload 2\n",
    "\n",
    "from data.data import dataset_attributes, shift_types, prepare_data, log_data\n",
    "from utils import set_seed, Logger, CSVBatchLogger, log_args, get_model, hinge_loss\n",
    "from notebooks.example_args import MyCUBArgs\n",
    "import torch \n",
    "from data import dro_dataset\n",
    "import wandb, os\n",
    "from train import train\n",
    "from data.folds import Subset, ConcatDataset\n",
    "\n",
    "mainargs = MyCUBArgs(wandb=False,\n",
    "                     seed=0,\n",
    "                     show_progress=False,\n",
    "                     project_name='')  # default gpu = 0\n",
    "part1_args = mainargs.part1_args\n",
    "part2_args = mainargs.part2_args\n",
    "args = part1_args\n",
    "set_seed(args.seed)\n",
    "\n",
    "train_data, val_data, test_data = prepare_data(args, train=True)\n",
    "\n",
    "\n",
    "loader_kwargs = {\n",
    "        \"batch_size\": args.batch_size,\n",
    "        \"num_workers\": 0,\n",
    "        \"pin_memory\": True,\n",
    "    }\n",
    "\n",
    "part1_loader = dro_dataset.get_loader(train_data,\n",
    "                                      train=True,\n",
    "                                      reweight_groups=None,\n",
    "                                      **loader_kwargs)\n",
    "\n",
    "criterion = torch.nn.CrossEntropyLoss(reduction=\"none\")\n",
    "\n",
    "model = torch.load('/home/thien/research/pseudogroups/CUB/splitpgl_sweep_logs/p0.9_wd0.0001_lr0.0001/part1_s0/best_model.pth')\n",
    "model.to('cpu')\n",
    "for batch in part1_loader:\n",
    "    x, y, g, data_idx = batch \n",
    "    break \n"
   ]
  },
  {
   "cell_type": "code",
   "execution_count": 2,
   "id": "available-strap",
   "metadata": {},
   "outputs": [],
   "source": [
    "output = model(x)\n",
    "per_sample_loss = criterion(output, y)\n",
    "n_groups = train_data.n_groups\n",
    "group_vect = torch.arange(n_groups).unsqueeze(1)  # 4x1 column vect of group indicator\n",
    " # 4x32 indicator matrix such that each column corresponds to an example and the row entry corresponds to the group\n",
    "group_map = (g==group_vect).float()"
   ]
  },
  {
   "cell_type": "code",
   "execution_count": 20,
   "id": "lucky-visibility",
   "metadata": {},
   "outputs": [],
   "source": [
    "group_count  = group_map.sum(1)"
   ]
  },
  {
   "cell_type": "code",
   "execution_count": 21,
   "id": "secret-college",
   "metadata": {},
   "outputs": [
    {
     "data": {
      "text/plain": [
       "tensor([21.,  5.,  0.,  6.])"
      ]
     },
     "execution_count": 21,
     "metadata": {},
     "output_type": "execute_result"
    }
   ],
   "source": [
    "test = []"
   ]
  },
  {
   "cell_type": "code",
   "execution_count": null,
   "id": "departmental-counter",
   "metadata": {},
   "outputs": [],
   "source": []
  }
 ],
 "metadata": {
  "kernelspec": {
   "display_name": "Python 3",
   "language": "python",
   "name": "python3"
  },
  "language_info": {
   "codemirror_mode": {
    "name": "ipython",
    "version": 3
   },
   "file_extension": ".py",
   "mimetype": "text/x-python",
   "name": "python",
   "nbconvert_exporter": "python",
   "pygments_lexer": "ipython3",
   "version": "3.6.8"
  }
 },
 "nbformat": 4,
 "nbformat_minor": 5
}
