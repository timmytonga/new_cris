{
 "cells": [
  {
   "cell_type": "code",
   "execution_count": 10,
   "id": "serial-mainstream",
   "metadata": {},
   "outputs": [
    {
     "name": "stderr",
     "output_type": "stream",
     "text": [
      "/home/thien/anaconda3/envs/spuriouscorr/lib/python3.6/site-packages/ipykernel_launcher.py:20: SettingWithCopyWarning: \n",
      "A value is trying to be set on a copy of a slice from a DataFrame.\n",
      "Try using .loc[row_indexer,col_indexer] = value instead\n",
      "\n",
      "See the caveats in the documentation: https://pandas.pydata.org/pandas-docs/stable/user_guide/indexing.html#returning-a-view-versus-a-copy\n"
     ]
    }
   ],
   "source": [
    "import pandas as pd\n",
    "import numpy as np\n",
    "from pprint import pprint\n",
    "import matplotlib.pyplot as plt\n",
    "\n",
    "root_dir = '/home/thien/research/pseudogroups/CivilComments/splitpgl_sweep_logs/all_wd0.01_lr1e-05/'\n",
    "meta_data_path = '/home/thien/research/datasets/jigsaw/data/all_data_with_identities.csv'\n",
    "part = 'part1'\n",
    "seed = 0\n",
    "epoch = 0\n",
    "val_or_test = 'val'\n",
    "\n",
    "\n",
    "file_path = root_dir + f'{part}_s{seed}/output_{val_or_test}_epoch_{epoch}.csv'\n",
    "output_df = pd.read_csv(file_path)\n",
    "\n",
    "metadata_df = pd.read_csv(meta_data_path)\n",
    "test_df = metadata_df.iloc[output_df[f'indices_None_epoch_{epoch}_val']]\n",
    "placeholder = (test_df['toxicity'] >= 0.5).astype(int)\n",
    "test_df['labels'] = placeholder\n",
    "test_df.reset_index(inplace=True)"
   ]
  },
  {
   "cell_type": "code",
   "execution_count": 11,
   "id": "physical-interface",
   "metadata": {},
   "outputs": [],
   "source": [
    "all_groups = [\n",
    "            'male',\n",
    "            'female',\n",
    "            'christian',\n",
    "            'muslim',\n",
    "            'other_religion',\n",
    "            'black',\n",
    "            'white',\n",
    "            'LGBTQ'\n",
    "    ]\n",
    "\n",
    "pred_col_name = f'y_pred_None_epoch_{epoch}_val'\n",
    "true_col_name = f'y_true_None_epoch_{epoch}_val'\n",
    "\n",
    "group_acc_dict = {}\n",
    "group_n_dict = {}\n",
    "\n",
    "for toxic in range(2):  # in 0 or 1\n",
    "    for g in range(len(all_groups)):\n",
    "        group_idx = toxic*len(all_groups) + g\n",
    "        idxs = (test_df['labels'] == toxic) & (test_df[all_groups[g]] == 1)\n",
    "        total_n_g = sum(idxs)\n",
    "        group_n_dict[(all_groups[g],toxic)] = total_n_g\n",
    "        if total_n_g <= 0:\n",
    "            group_acc_dict[(all_groups[g],toxic)] = 1  # vacuously perfect\n",
    "            continue\n",
    "        correct_pred = sum(test_df[idxs]['labels'] == output_df[idxs][pred_col_name])\n",
    "        group_acc_dict[(all_groups[g],toxic)] =  correct_pred/total_n_g\n",
    "wg_acc = min(v for k, v in group_acc_dict.items())\n",
    "avg_acc = sum(output_df[pred_col_name] == output_df[true_col_name])/len(output_df)"
   ]
  },
  {
   "cell_type": "code",
   "execution_count": 12,
   "id": "composite-procurement",
   "metadata": {},
   "outputs": [
    {
     "data": {
      "text/plain": [
       "0.3853211009174312"
      ]
     },
     "execution_count": 12,
     "metadata": {},
     "output_type": "execute_result"
    }
   ],
   "source": [
    "wg_acc"
   ]
  },
  {
   "cell_type": "code",
   "execution_count": 13,
   "id": "roman-excerpt",
   "metadata": {},
   "outputs": [
    {
     "data": {
      "text/plain": [
       "0.9296148738379814"
      ]
     },
     "execution_count": 13,
     "metadata": {},
     "output_type": "execute_result"
    }
   ],
   "source": [
    "avg_acc"
   ]
  },
  {
   "cell_type": "code",
   "execution_count": null,
   "id": "challenging-memphis",
   "metadata": {},
   "outputs": [],
   "source": []
  }
 ],
 "metadata": {
  "kernelspec": {
   "display_name": "Python 3",
   "language": "python",
   "name": "python3"
  },
  "language_info": {
   "codemirror_mode": {
    "name": "ipython",
    "version": 3
   },
   "file_extension": ".py",
   "mimetype": "text/x-python",
   "name": "python",
   "nbconvert_exporter": "python",
   "pygments_lexer": "ipython3",
   "version": "3.6.8"
  }
 },
 "nbformat": 4,
 "nbformat_minor": 5
}
