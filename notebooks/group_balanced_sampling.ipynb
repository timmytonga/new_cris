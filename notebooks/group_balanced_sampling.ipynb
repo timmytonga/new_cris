{
 "cells": [
  {
   "cell_type": "code",
   "execution_count": 7,
   "id": "2ee8cb18",
   "metadata": {},
   "outputs": [],
   "source": [
    "import torch \n",
    "import numpy as np\n",
    "\n",
    "data_dir = '/home/thien/research/pseudogroups/CelebA/splitpgl_sweep_logs/all_wd0.0001_lr0.0001_valfrac1/part1_s0'\n",
    "data_path = f\"{data_dir}/part1and2_data_valp1.0\"\n",
    "\n",
    "loaded_data = torch.load(data_path)\n",
    "part1, part2 = loaded_data['part1'], loaded_data['part2']"
   ]
  },
  {
   "cell_type": "code",
   "execution_count": 36,
   "id": "af7cb0d9",
   "metadata": {},
   "outputs": [
    {
     "name": "stdout",
     "output_type": "stream",
     "text": [
      "tensor(0.1000)\n"
     ]
    }
   ],
   "source": [
    "data = part1\n",
    "\n",
    "split_fraction = .10\n",
    "group_counts = data.group_counts()\n",
    "sampled_group_counts = torch.ceil(group_counts*split_fraction)\n",
    "\n",
    "indices = np.array([], dtype=int)\n",
    "group_array = data.get_group_array()\n",
    "\n",
    "for g in np.arange(data.n_groups):\n",
    "    group_indices = np.where((group_array == g))[0]\n",
    "    num_g = int(torch.ceil(group_counts[g]*split_fraction))\n",
    "    indices = np.concatenate((\n",
    "        indices, np.sort(np.random.permutation(group_indices)[:num_g])))\n"
   ]
  },
  {
   "cell_type": "code",
   "execution_count": 38,
   "id": "33fea51b",
   "metadata": {},
   "outputs": [
    {
     "data": {
      "text/plain": [
       "tensor(0.1000)"
      ]
     },
     "execution_count": 38,
     "metadata": {},
     "output_type": "execute_result"
    }
   ],
   "source": [
    "len(indices)/sum(group_counts)"
   ]
  },
  {
   "cell_type": "code",
   "execution_count": 34,
   "id": "c3471c0d",
   "metadata": {},
   "outputs": [
    {
     "name": "stdout",
     "output_type": "stream",
     "text": [
      "tensor(71629.)\n",
      "7163\n"
     ]
    },
    {
     "data": {
      "text/plain": [
       "71629"
      ]
     },
     "execution_count": 34,
     "metadata": {},
     "output_type": "execute_result"
    }
   ],
   "source": []
  },
  {
   "cell_type": "code",
   "execution_count": 35,
   "id": "0c57b998",
   "metadata": {},
   "outputs": [],
   "source": []
  },
  {
   "cell_type": "code",
   "execution_count": null,
   "id": "f874009a",
   "metadata": {},
   "outputs": [],
   "source": []
  }
 ],
 "metadata": {
  "kernelspec": {
   "display_name": "Python 3 (ipykernel)",
   "language": "python",
   "name": "python3"
  },
  "language_info": {
   "codemirror_mode": {
    "name": "ipython",
    "version": 3
   },
   "file_extension": ".py",
   "mimetype": "text/x-python",
   "name": "python",
   "nbconvert_exporter": "python",
   "pygments_lexer": "ipython3",
   "version": "3.10.4"
  }
 },
 "nbformat": 4,
 "nbformat_minor": 5
}
