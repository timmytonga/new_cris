{
 "cells": [
  {
   "cell_type": "code",
   "execution_count": 59,
   "id": "af7a2470",
   "metadata": {},
   "outputs": [
    {
     "name": "stdout",
     "output_type": "stream",
     "text": [
      "Reading '/home/thien/research/datasets/cub/data/waterbird_complete95_forest2water2/metadata.csv'\n"
     ]
    }
   ],
   "source": [
    "from data.data import dataset_attributes, shift_types, prepare_data, log_data\n",
    "from utils import set_seed, Logger, CSVBatchLogger, log_args, get_model, hinge_loss\n",
    "from notebooks.example_args import MyCUBArgs\n",
    "import torch \n",
    "from data import dro_dataset\n",
    "import wandb, os\n",
    "from train import train\n",
    "from data.folds import Subset, ConcatDataset\n",
    "\n",
    "mainargs = MyCUBArgs(wandb=False,\n",
    "                     seed=0,\n",
    "                     show_progress=False,\n",
    "                     project_name='')  # default gpu = 0\n",
    "part1_args = mainargs.part1_args\n",
    "part2_args = mainargs.part2_args\n",
    "args = part1_args\n",
    "set_seed(args.seed)\n",
    "\n",
    "train_data, val_data, test_data = prepare_data(args, train=True)\n"
   ]
  },
  {
   "cell_type": "code",
   "execution_count": 63,
   "id": "931f0ba8",
   "metadata": {},
   "outputs": [
    {
     "data": {
      "text/plain": [
       "{'q': 0.7,\n",
       " 'lr': 0.001,\n",
       " 'btl': False,\n",
       " 'gpu': 0,\n",
       " 'fold': None,\n",
       " 'seed': 0,\n",
       " 'alpha': 0.2,\n",
       " 'gamma': 0.1,\n",
       " 'hinge': False,\n",
       " 'model': 'resnet50',\n",
       " 'wandb': False,\n",
       " 'resume': False,\n",
       " 'aug_col': 'None',\n",
       " 'dataset': 'CUB',\n",
       " 'log_dir': '/SPGL_proportion0.5_epochs51_lr0.001_weightdecay0.0001/part1',\n",
       " 'fraction': 1,\n",
       " 'n_epochs': 51,\n",
       " 'root_dir': '/home/thien/research/datasets/cub',\n",
       " 'run_test': False,\n",
       " 'log_every': 151,\n",
       " 'loss_type': 'erm',\n",
       " 'save_best': False,\n",
       " 'save_last': False,\n",
       " 'save_step': 10,\n",
       " 'scheduler': False,\n",
       " 'batch_size': 32,\n",
       " 'num_sweeps': 4,\n",
       " 'shift_type': 'confounder',\n",
       " 'target_name': 'waterbird_complete95',\n",
       " 'augment_data': False,\n",
       " 'project_name': '',\n",
       " 'val_fraction': 0.1,\n",
       " 'weight_decay': 0.0001,\n",
       " 'subsample_minority': False,\n",
       " 'multi_subsample': False,\n",
       " 'metadata_path': 'myresults/CUB/waterbird_newrun/metadata_aug.csv',\n",
       " 'show_progress': False,\n",
       " 'imbalance_ratio': None,\n",
       " 'joint_dro_alpha': 1,\n",
       " 'reweight_groups': False,\n",
       " 'use_bert_params': 1,\n",
       " 'confounder_names': ['forest2water2'],\n",
       " 'robust_step_size': 0.01,\n",
       " 'metadata_csv_name': 'metadata.csv',\n",
       " 'minority_fraction': None,\n",
       " 'train_from_scratch': False,\n",
       " 'num_folds_per_sweep': 5,\n",
       " 'use_normalized_loss': False,\n",
       " 'automatic_adjustment': False,\n",
       " 'generalization_adjustment': '0.0',\n",
       " 'minimum_variational_weight': 0,\n",
       " 'part': 1,\n",
       " 'part1_split_proportion': 0.5,\n",
       " 'val_split_proportion': 0,\n",
       " 'reduce_val_fraction': 1,\n",
       " 'part1_use_all_data': False,\n",
       " 'part1_model_epoch': 10,\n",
       " 'part1_pgl_model_epoch': None,\n",
       " 'part2_only_last_layer': False,\n",
       " 'part2_use_old_model': False,\n",
       " 'upweight': 0}"
      ]
     },
     "execution_count": 63,
     "metadata": {},
     "output_type": "execute_result"
    }
   ],
   "source": [
    "args"
   ]
  },
  {
   "cell_type": "code",
   "execution_count": 61,
   "id": "6b717aab",
   "metadata": {},
   "outputs": [
    {
     "name": "stdout",
     "output_type": "stream",
     "text": [
      "[utils/get_group_balanced...] len(dataset)=1199\n",
      "[utils/get_group_balanced...] g=0: len(group_indices)=467\n",
      "[utils/get_group_balanced...] g=1: len(group_indices)=466\n",
      "[utils/get_group_balanced...] g=2: len(group_indices)=133\n",
      "[utils/get_group_balanced...] g=3: len(group_indices)=133\n"
     ]
    }
   ],
   "source": [
    "dataset = val_data\n",
    "\n",
    "indices = np.array([], dtype=int)\n",
    "remaining_idxs = np.array([], dtype=int)\n",
    "group_array = dataset.get_group_array()\n",
    "\n",
    "print(f\"[utils/get_group_balanced...] len(dataset)={len(dataset)}\")\n",
    "\n",
    "for g in np.arange(dataset.n_groups):\n",
    "    group_indices = np.where((group_array == g))[0]\n",
    "    num_g = int(math.ceil(len(group_indices) * split_fraction))\n",
    "    print(f\"[utils/get_group_balanced...] g={g}: len(group_indices)={len(group_indices)}\")\n",
    "    permuted_indices = np.sort(np.random.permutation(group_indices))\n",
    "    indices = np.concatenate((indices, permuted_indices[:num_g]))\n",
    "    remaining_idxs = np.concatenate((remaining_idxs, permuted_indices[num_g:]))"
   ]
  },
  {
   "cell_type": "code",
   "execution_count": 62,
   "id": "23f32fd2",
   "metadata": {},
   "outputs": [
    {
     "data": {
      "text/plain": [
       "<data.dro_dataset.DRODataset at 0x7f39ae67f8e0>"
      ]
     },
     "execution_count": 62,
     "metadata": {},
     "output_type": "execute_result"
    }
   ],
   "source": [
    "dataset"
   ]
  },
  {
   "cell_type": "code",
   "execution_count": 54,
   "id": "5fa324af",
   "metadata": {},
   "outputs": [
    {
     "name": "stdout",
     "output_type": "stream",
     "text": [
      "group_count=467.0 vs. len=467\n",
      "group_count=466.0 vs. len=466\n",
      "group_count=133.0 vs. len=133\n",
      "group_count=133.0 vs. len=133\n"
     ]
    }
   ],
   "source": [
    "data = val_data\n",
    "\n",
    "split_fraction = .10\n",
    "group_counts = data.group_counts()\n",
    "sampled_group_counts = torch.ceil(group_counts*split_fraction)\n",
    "\n",
    "indices = np.array([], dtype=int)\n",
    "group_array = data.get_group_array()\n",
    "\n",
    "for g in np.arange(data.n_groups):\n",
    "    group_indices = np.where((group_array == g))[0]\n",
    "    num_g = int(torch.ceil(group_counts[g]*split_fraction))\n",
    "    print(f\"group_count={group_counts[g]} vs. len={len(group_indices)}\")\n",
    "    indices = np.concatenate((\n",
    "        indices, np.sort(np.random.permutation(group_indices)[:num_g])))\n"
   ]
  },
  {
   "cell_type": "code",
   "execution_count": 55,
   "id": "dd9f35ad",
   "metadata": {},
   "outputs": [
    {
     "name": "stdout",
     "output_type": "stream",
     "text": [
      "\n",
      "g=0\n",
      "group_count=467.0 vs. len=467\n",
      "num_g= 47\n",
      "permuted_indices_len=467\n",
      "indices=47 vs. remaining_idxs=420.\n",
      "sum=467\n",
      "\n",
      "g=1\n",
      "group_count=466.0 vs. len=466\n",
      "num_g= 47\n",
      "permuted_indices_len=466\n",
      "indices=94 vs. remaining_idxs=839.\n",
      "sum=933\n",
      "\n",
      "g=2\n",
      "group_count=133.0 vs. len=133\n",
      "num_g= 14\n",
      "permuted_indices_len=133\n",
      "indices=108 vs. remaining_idxs=958.\n",
      "sum=1066\n",
      "\n",
      "g=3\n",
      "group_count=133.0 vs. len=133\n",
      "num_g= 14\n",
      "permuted_indices_len=133\n",
      "indices=122 vs. remaining_idxs=1077.\n",
      "sum=1199\n"
     ]
    }
   ],
   "source": [
    "dataset = data\n",
    "\n",
    "indices = np.array([], dtype=int)\n",
    "remaining_idxs = np.array([], dtype=int)\n",
    "group_array = dataset.get_group_array()\n",
    "group_counts = data.group_counts()\n",
    "\n",
    "for g in np.arange(dataset.n_groups):\n",
    "    print(f\"\\ng={g}\")\n",
    "    group_indices = np.where((group_array == g))[0]\n",
    "    print(f\"group_count={group_counts[g]} vs. len={len(group_indices)}\")\n",
    "    num_g = int(math.ceil(len(group_indices) * split_fraction))\n",
    "    print(f'num_g=', num_g)\n",
    "    permuted_indices = np.sort(np.random.permutation(group_indices))\n",
    "    print(f\"permuted_indices_len={len(permuted_indices)}\")\n",
    "    indices = np.concatenate((indices, permuted_indices[:num_g]))\n",
    "    remaining_idxs = np.concatenate((remaining_idxs, permuted_indices[num_g:]))\n",
    "    print(f\"indices={len(indices)} vs. remaining_idxs={len(remaining_idxs)}.\")\n",
    "    print(f\"sum={len(indices)+len(remaining_idxs)}\")"
   ]
  },
  {
   "cell_type": "code",
   "execution_count": 58,
   "id": "a14daf33",
   "metadata": {},
   "outputs": [
    {
     "data": {
      "text/plain": [
       "0.10175145954962468"
      ]
     },
     "execution_count": 58,
     "metadata": {},
     "output_type": "execute_result"
    }
   ],
   "source": [
    "len(indices)/len(dataset)"
   ]
  },
  {
   "cell_type": "code",
   "execution_count": 39,
   "id": "e4d5f24b",
   "metadata": {},
   "outputs": [
    {
     "name": "stdout",
     "output_type": "stream",
     "text": [
      "Reading '/home/thien/research/datasets/cub/data/waterbird_complete95_forest2water2/metadata.csv'\n"
     ]
    }
   ],
   "source": [
    "from data.data import dataset_attributes, shift_types, prepare_data, log_data\n",
    "from utils import set_seed, Logger, CSVBatchLogger, log_args, get_model, hinge_loss\n",
    "from notebooks.example_args import MyCUBArgs\n",
    "import torch \n",
    "from data import dro_dataset\n",
    "import wandb, os\n",
    "from train import train\n",
    "from data.folds import Subset, ConcatDataset\n",
    "\n",
    "mainargs = MyCUBArgs(wandb=False,\n",
    "                     seed=0,\n",
    "                     show_progress=False,\n",
    "                     project_name='')  # default gpu = 0\n",
    "part1_args = mainargs.part1_args\n",
    "part2_args = mainargs.part2_args\n",
    "args = part1_args\n",
    "set_seed(args.seed)\n",
    "\n",
    "train_data, val_data, test_data = prepare_data(args, train=True)\n"
   ]
  },
  {
   "cell_type": "code",
   "execution_count": 41,
   "id": "3f002db2",
   "metadata": {},
   "outputs": [
    {
     "data": {
      "text/plain": [
       "tensor([467., 466., 133., 133.])"
      ]
     },
     "execution_count": 41,
     "metadata": {},
     "output_type": "execute_result"
    }
   ],
   "source": [
    "from my_run_expt import make_data_split\n",
    "\n",
    "p1, p2 = make_data_split(val_data,)"
   ]
  },
  {
   "cell_type": "code",
   "execution_count": 35,
   "id": "d135d687",
   "metadata": {},
   "outputs": [],
   "source": []
  },
  {
   "cell_type": "code",
   "execution_count": null,
   "id": "dae1b3d7",
   "metadata": {},
   "outputs": [],
   "source": []
  }
 ],
 "metadata": {
  "kernelspec": {
   "display_name": "Python 3 (ipykernel)",
   "language": "python",
   "name": "python3"
  },
  "language_info": {
   "codemirror_mode": {
    "name": "ipython",
    "version": 3
   },
   "file_extension": ".py",
   "mimetype": "text/x-python",
   "name": "python",
   "nbconvert_exporter": "python",
   "pygments_lexer": "ipython3",
   "version": "3.10.4"
  }
 },
 "nbformat": 4,
 "nbformat_minor": 5
}
