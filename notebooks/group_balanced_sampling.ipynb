{
 "cells": [
  {
   "cell_type": "code",
   "execution_count": 7,
   "id": "7f58fb87",
   "metadata": {},
   "outputs": [],
   "source": [
    "import torch \n",
    "import numpy as np\n",
    "\n",
    "data_dir = '/home/thien/research/pseudogroups/CelebA/splitpgl_sweep_logs/all_wd0.0001_lr0.0001_valfrac1/part1_s0'\n",
    "data_path = f\"{data_dir}/part1and2_data_valp1.0\"\n",
    "\n",
    "loaded_data = torch.load(data_path)\n",
    "part1, part2 = loaded_data['part1'], loaded_data['part2']"
   ]
  },
  {
   "cell_type": "code",
   "execution_count": 36,
   "id": "aac0ec76",
   "metadata": {},
   "outputs": [
    {
     "name": "stdout",
     "output_type": "stream",
     "text": [
      "tensor(0.1000)\n"
     ]
    }
   ],
   "source": [
    "data = part1\n",
    "\n",
    "split_fraction = .10\n",
    "group_counts = data.group_counts()\n",
    "sampled_group_counts = torch.ceil(group_counts*split_fraction)\n",
    "\n",
    "indices = np.array([], dtype=int)\n",
    "group_array = data.get_group_array()\n",
    "\n",
    "for g in np.arange(data.n_groups):\n",
    "    group_indices = np.where((group_array == g))[0]\n",
    "    num_g = int(torch.ceil(group_counts[g]*split_fraction))\n",
    "    indices = np.concatenate((\n",
    "        indices, np.sort(np.random.permutation(group_indices)[:num_g])))\n"
   ]
  },
  {
   "cell_type": "code",
   "execution_count": 39,
   "id": "322272bf",
   "metadata": {},
   "outputs": [
    {
     "name": "stdout",
     "output_type": "stream",
     "text": [
      "Reading '/home/thien/research/datasets/cub/data/waterbird_complete95_forest2water2/metadata.csv'\n"
     ]
    }
   ],
   "source": [
    "from data.data import dataset_attributes, shift_types, prepare_data, log_data\n",
    "from utils import set_seed, Logger, CSVBatchLogger, log_args, get_model, hinge_loss\n",
    "from notebooks.example_args import MyCUBArgs\n",
    "import torch \n",
    "from data import dro_dataset\n",
    "import wandb, os\n",
    "from train import train\n",
    "from data.folds import Subset, ConcatDataset\n",
    "\n",
    "mainargs = MyCUBArgs(wandb=False,\n",
    "                     seed=0,\n",
    "                     show_progress=False,\n",
    "                     project_name='')  # default gpu = 0\n",
    "part1_args = mainargs.part1_args\n",
    "part2_args = mainargs.part2_args\n",
    "args = part1_args\n",
    "set_seed(args.seed)\n",
    "\n",
    "train_data, val_data, test_data = prepare_data(args, train=True)\n"
   ]
  },
  {
   "cell_type": "code",
   "execution_count": 41,
   "id": "f143df09",
   "metadata": {},
   "outputs": [
    {
     "data": {
      "text/plain": [
       "tensor([467., 466., 133., 133.])"
      ]
     },
     "execution_count": 41,
     "metadata": {},
     "output_type": "execute_result"
    }
   ],
   "source": [
    "val_data.group_counts()"
   ]
  },
  {
   "cell_type": "code",
   "execution_count": 35,
   "id": "07803243",
   "metadata": {},
   "outputs": [],
   "source": []
  },
  {
   "cell_type": "code",
   "execution_count": null,
   "id": "059c45ac",
   "metadata": {},
   "outputs": [],
   "source": []
  }
 ],
 "metadata": {
  "kernelspec": {
   "display_name": "Python 3 (ipykernel)",
   "language": "python",
   "name": "python3"
  },
  "language_info": {
   "codemirror_mode": {
    "name": "ipython",
    "version": 3
   },
   "file_extension": ".py",
   "mimetype": "text/x-python",
   "name": "python",
   "nbconvert_exporter": "python",
   "pygments_lexer": "ipython3",
   "version": "3.10.4"
  }
 },
 "nbformat": 4,
 "nbformat_minor": 5
}
