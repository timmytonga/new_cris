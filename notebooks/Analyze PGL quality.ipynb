{
 "cells": [
  {
   "cell_type": "code",
   "execution_count": 4,
   "id": "19158d1a",
   "metadata": {},
   "outputs": [
    {
     "name": "stdout",
     "output_type": "stream",
     "text": [
      "/home/thiennguyen/research/pseudogroups/split_pgl\n"
     ]
    }
   ],
   "source": [
    "%cd /home/thiennguyen/research/pseudogroups/split_pgl"
   ]
  },
  {
   "cell_type": "code",
   "execution_count": 5,
   "id": "cbce3381",
   "metadata": {},
   "outputs": [],
   "source": [
    "import os\n",
    "from train import run_epoch\n",
    "from loss import LossComputer\n",
    "import numpy as np\n",
    "import pandas as pd\n",
    "import torch\n",
    "from utils import Logger, CSVBatchLogger\n",
    "from data import dro_dataset\n",
    "from torch.utils.data.sampler import WeightedRandomSampler\n",
    "from copy import deepcopy\n",
    "import wandb\n",
    "from tqdm import tqdm\n",
    "\n",
    "device = 'cuda:0'\n",
    "\n",
    "def run_eval_data_on_model(part1_model_path, part2_data_path, log_dir):\n",
    "    \"\"\"\n",
    "        Run data on part1_model_path and save to log_dir/part2_eval.csv \n",
    "    \"\"\"\n",
    "    if not os.path.exists(log_dir):\n",
    "        os.makedirs(log_dir)\n",
    "    logger = Logger(os.path.join(log_dir, \"log.txt\"), 'w')\n",
    "    logger.flush()\n",
    "    model = torch.load(part1_model_path)\n",
    "    model.to(device)\n",
    "    part2_data = torch.load(data_path)[\"part2\"]\n",
    "    csv_logger = CSVBatchLogger(os.path.join(log_dir, f\"part2_eval.csv\"), part2_data.n_groups, mode='w')\n",
    "    loader_kwargs = {  # setting for args\n",
    "        \"batch_size\": 128,\n",
    "        \"num_workers\": 4,\n",
    "        \"pin_memory\": True,\n",
    "    }\n",
    "    part2_loader = dro_dataset.get_loader(part2_data,\n",
    "                                      train=False,\n",
    "                                      reweight_groups=None,\n",
    "                                      **loader_kwargs)\n",
    "\n",
    "    # then run an epoch on part2 and during that run, generate a csv containing the status of each example\n",
    "    for batch_idx, batch in enumerate(tqdm(part2_loader)):\n",
    "        batch = tuple(t.to(device) for t in batch)\n",
    "        x, y, g, data_idx = batch[0], batch[1], batch[2], batch[3]\n",
    "        outputs = model(x)\n",
    "        output_df = pd.DataFrame()\n",
    "        \n",
    "        # Calculate stats -- get the prediction and compare with groundtruth -- save to output df\n",
    "        if batch_idx == 0:\n",
    "            acc_y_pred = np.argmax(outputs.detach().cpu().numpy(), axis=1)\n",
    "            acc_y_true = y.cpu().numpy()\n",
    "            acc_g_true = g.cpu().numpy()\n",
    "            indices = data_idx.cpu().numpy()\n",
    "\n",
    "            probs = outputs.detach().cpu().numpy()\n",
    "        else:  # concatenate\n",
    "            acc_y_pred = np.concatenate([\n",
    "                acc_y_pred,\n",
    "                np.argmax(outputs.detach().cpu().numpy(), axis=1)\n",
    "            ])\n",
    "            acc_y_true = np.concatenate([acc_y_true, y.cpu().numpy()])\n",
    "            acc_g_true = np.concatenate([acc_g_true, g.cpu().numpy()])\n",
    "            indices = np.concatenate([indices, data_idx.cpu().numpy()])\n",
    "            probs = np.concatenate([probs, outputs.detach().cpu().numpy()], axis = 0)\n",
    "\n",
    "        assert probs.shape[0] == indices.shape[0]\n",
    "        output_df[f\"y_pred\"] = acc_y_pred\n",
    "        output_df[f\"y_true\"] = acc_y_true\n",
    "        output_df[f\"indices\"] = indices\n",
    "        output_df[f\"g_true\"] = acc_g_true\n",
    "\n",
    "        for class_ind in range(probs.shape[1]):\n",
    "            output_df[f\"pred_prob_{class_ind}\"] = probs[:, class_ind]\n",
    "    save_dir = \"/\".join(csv_logger.path.split(\"/\")[:-1])\n",
    "    output_df.to_csv(\n",
    "        os.path.join(save_dir, \n",
    "                        f\"output.csv\"))\n",
    "    print(\"Saved\", os.path.join(save_dir, \n",
    "                        f\"output.csv\"))\n",
    "\n",
    "def analyze_pgl(csv_path):\n",
    "    n_groups = 4\n",
    "    n_classes = 2\n",
    "\n",
    "    part2_df = pd.read_csv(csv_path)\n",
    "    group = part2_df['g_true']\n",
    "    y_true = part2_df['y_true']\n",
    "    y_pred = part2_df['y_pred']\n",
    "    group_count = [len(group[group == g]) for g in range(n_groups)]\n",
    "\n",
    "    pgl = y_true*n_classes + y_pred  # can flip y_pred to get 1-y_pred...\n",
    "    pgl_count = [len(pgl[pgl == g]) for g in range(n_groups)]\n",
    "\n",
    "    recall = []\n",
    "    precision = []\n",
    "    for g in range(n_groups):\n",
    "        recall.append(round(sum((pgl == g) & (group == g))/group_count[g],2))\n",
    "        precision.append(round(sum((pgl == g) & (group == g))/pgl_count[g],2))\n",
    "\n",
    "    print(f\"pgl_count: \\t{pgl_count}\")\n",
    "    print(f\"group_count: \\t{group_count}\")\n",
    "    print(f\"recall: \\t{recall}\")\n",
    "    print(f\"precision: \\t{precision}\")\n",
    "    print(f\"{pd.crosstab(pgl, group)}\")    "
   ]
  },
  {
   "cell_type": "code",
   "execution_count": 7,
   "id": "f6a51fa2",
   "metadata": {},
   "outputs": [
    {
     "name": "stdout",
     "output_type": "stream",
     "text": [
      "10\n"
     ]
    },
    {
     "name": "stderr",
     "output_type": "stream",
     "text": [
      "100%|███████████████████████████████████████████████████████████████████| 19/19 [00:03<00:00,  5.87it/s]"
     ]
    },
    {
     "name": "stdout",
     "output_type": "stream",
     "text": [
      "Saved /home/thiennguyen/research/pseudogroups/CUB/splitpgl_sweep_logs/p0.5_wd0.0001_lr0.0001_s1/part1/pgl_analysis_10/output.csv\n",
      "pgl_count: \t[1808, 39, 42, 509]\n",
      "group_count: \t[1756, 91, 25, 526]\n",
      "recall: \t[1.0, 0.35, 0.36, 0.94]\n",
      "precision: \t[0.97, 0.82, 0.21, 0.97]\n",
      "g_true     0   1   2    3\n",
      "row_0                    \n",
      "0       1749  59   0    0\n",
      "1          7  32   0    0\n",
      "2          0   0   9   33\n",
      "3          0   0  16  493\n",
      "20\n"
     ]
    },
    {
     "name": "stderr",
     "output_type": "stream",
     "text": [
      "\n",
      "100%|███████████████████████████████████████████████████████████████████| 19/19 [00:03<00:00,  5.87it/s]"
     ]
    },
    {
     "name": "stdout",
     "output_type": "stream",
     "text": [
      "Saved /home/thiennguyen/research/pseudogroups/CUB/splitpgl_sweep_logs/p0.5_wd0.0001_lr0.0001_s1/part1/pgl_analysis_20/output.csv\n",
      "pgl_count: \t[1808, 39, 42, 509]\n",
      "group_count: \t[1756, 91, 25, 526]\n",
      "recall: \t[1.0, 0.35, 0.36, 0.94]\n",
      "precision: \t[0.97, 0.82, 0.21, 0.97]\n",
      "g_true     0   1   2    3\n",
      "row_0                    \n",
      "0       1749  59   0    0\n",
      "1          7  32   0    0\n",
      "2          0   0   9   33\n",
      "3          0   0  16  493\n",
      "30\n"
     ]
    },
    {
     "name": "stderr",
     "output_type": "stream",
     "text": [
      "\n",
      "100%|███████████████████████████████████████████████████████████████████| 19/19 [00:03<00:00,  5.86it/s]"
     ]
    },
    {
     "name": "stdout",
     "output_type": "stream",
     "text": [
      "Saved /home/thiennguyen/research/pseudogroups/CUB/splitpgl_sweep_logs/p0.5_wd0.0001_lr0.0001_s1/part1/pgl_analysis_30/output.csv\n",
      "pgl_count: \t[1808, 39, 42, 509]\n",
      "group_count: \t[1756, 91, 25, 526]\n",
      "recall: \t[1.0, 0.35, 0.36, 0.94]\n",
      "precision: \t[0.97, 0.82, 0.21, 0.97]\n",
      "g_true     0   1   2    3\n",
      "row_0                    \n",
      "0       1749  59   0    0\n",
      "1          7  32   0    0\n",
      "2          0   0   9   33\n",
      "3          0   0  16  493\n",
      "100\n"
     ]
    },
    {
     "name": "stderr",
     "output_type": "stream",
     "text": [
      "\n",
      "100%|███████████████████████████████████████████████████████████████████| 19/19 [00:03<00:00,  5.86it/s]"
     ]
    },
    {
     "name": "stdout",
     "output_type": "stream",
     "text": [
      "Saved /home/thiennguyen/research/pseudogroups/CUB/splitpgl_sweep_logs/p0.5_wd0.0001_lr0.0001_s1/part1/pgl_analysis_100/output.csv\n",
      "pgl_count: \t[1808, 39, 42, 509]\n",
      "group_count: \t[1756, 91, 25, 526]\n",
      "recall: \t[1.0, 0.35, 0.36, 0.94]\n",
      "precision: \t[0.97, 0.82, 0.21, 0.97]\n",
      "g_true     0   1   2    3\n",
      "row_0                    \n",
      "0       1749  59   0    0\n",
      "1          7  32   0    0\n",
      "2          0   0   9   33\n",
      "3          0   0  16  493\n",
      "300\n"
     ]
    },
    {
     "name": "stderr",
     "output_type": "stream",
     "text": [
      "\n",
      "100%|███████████████████████████████████████████████████████████████████| 19/19 [00:03<00:00,  5.79it/s]"
     ]
    },
    {
     "name": "stdout",
     "output_type": "stream",
     "text": [
      "Saved /home/thiennguyen/research/pseudogroups/CUB/splitpgl_sweep_logs/p0.5_wd0.0001_lr0.0001_s1/part1/pgl_analysis_300/output.csv\n",
      "pgl_count: \t[1808, 39, 42, 509]\n",
      "group_count: \t[1756, 91, 25, 526]\n",
      "recall: \t[1.0, 0.35, 0.36, 0.94]\n",
      "precision: \t[0.97, 0.82, 0.21, 0.97]\n",
      "g_true     0   1   2    3\n",
      "row_0                    \n",
      "0       1749  59   0    0\n",
      "1          7  32   0    0\n",
      "2          0   0   9   33\n",
      "3          0   0  16  493\n"
     ]
    },
    {
     "name": "stderr",
     "output_type": "stream",
     "text": [
      "\n"
     ]
    }
   ],
   "source": [
    "# run = wandb.init(project=f\"{args.project_name}_{args.dataset}\")\n",
    "# wandb.config.update(args)\n",
    "\n",
    "\n",
    "model_data_root_dir = \"/home/thiennguyen/research/pseudogroups/CUB/splitpgl_sweep_logs/p0.5_wd0.0001_lr0.0001_s1/part1\"\n",
    "\n",
    "for model_epoch in [10, 20, 30, 100, 300]:\n",
    "    print(model_epoch)\n",
    "    part1_model_path = f\"{model_data_root_dir}/{model_epoch}_model.pth\"\n",
    "    data_path = f\"{model_data_root_dir}/part1and2_data\"\n",
    "    log_dir = f\"{model_data_root_dir}/pgl_analysis_{model_epoch}\"\n",
    "\n",
    "    run_eval_data_on_model(part1_model_path, data_path, log_dir)\n",
    "    \n",
    "    csv_path = f\"{model_data_root_dir}/pgl_analysis/output.csv\"\n",
    "    analyze_pgl(csv_path)"
   ]
  },
  {
   "cell_type": "code",
   "execution_count": 50,
   "id": "03f56823",
   "metadata": {},
   "outputs": [
    {
     "name": "stdout",
     "output_type": "stream",
     "text": [
      "pgl_count: \t[1801, 46, 66, 485]\n",
      "group_count: \t[1756, 91, 25, 526]\n",
      "recall: \t[1.0, 0.47, 0.76, 0.91]\n",
      "precision: \t[0.97, 0.93, 0.29, 0.99]\n",
      "g_true     0   1   2    3\n",
      "row_0                    \n",
      "0       1753  48   0    0\n",
      "1          3  43   0    0\n",
      "2          0   0  19   47\n",
      "3          0   0   6  479\n"
     ]
    }
   ],
   "source": [
    "csv_path = \"/home/thiennguyen/research/pseudogroups/CUB/splitpgl_sweep_logs/p0.5_wd0.0001_lr0.0001_s1/part1/pgl_analysis/output.csv\"\n",
    "\n"
   ]
  },
  {
   "cell_type": "code",
   "execution_count": 37,
   "id": "ec4d550b",
   "metadata": {},
   "outputs": [
    {
     "data": {
      "text/html": [
       "<div>\n",
       "<style scoped>\n",
       "    .dataframe tbody tr th:only-of-type {\n",
       "        vertical-align: middle;\n",
       "    }\n",
       "\n",
       "    .dataframe tbody tr th {\n",
       "        vertical-align: top;\n",
       "    }\n",
       "\n",
       "    .dataframe thead th {\n",
       "        text-align: right;\n",
       "    }\n",
       "</style>\n",
       "<table border=\"1\" class=\"dataframe\">\n",
       "  <thead>\n",
       "    <tr style=\"text-align: right;\">\n",
       "      <th>g_true</th>\n",
       "      <th>0</th>\n",
       "      <th>1</th>\n",
       "      <th>2</th>\n",
       "      <th>3</th>\n",
       "    </tr>\n",
       "    <tr>\n",
       "      <th>row_0</th>\n",
       "      <th></th>\n",
       "      <th></th>\n",
       "      <th></th>\n",
       "      <th></th>\n",
       "    </tr>\n",
       "  </thead>\n",
       "  <tbody>\n",
       "    <tr>\n",
       "      <th>0</th>\n",
       "      <td>1753</td>\n",
       "      <td>48</td>\n",
       "      <td>0</td>\n",
       "      <td>0</td>\n",
       "    </tr>\n",
       "    <tr>\n",
       "      <th>1</th>\n",
       "      <td>3</td>\n",
       "      <td>43</td>\n",
       "      <td>0</td>\n",
       "      <td>0</td>\n",
       "    </tr>\n",
       "    <tr>\n",
       "      <th>2</th>\n",
       "      <td>0</td>\n",
       "      <td>0</td>\n",
       "      <td>19</td>\n",
       "      <td>47</td>\n",
       "    </tr>\n",
       "    <tr>\n",
       "      <th>3</th>\n",
       "      <td>0</td>\n",
       "      <td>0</td>\n",
       "      <td>6</td>\n",
       "      <td>479</td>\n",
       "    </tr>\n",
       "  </tbody>\n",
       "</table>\n",
       "</div>"
      ],
      "text/plain": [
       "g_true     0   1   2    3\n",
       "row_0                    \n",
       "0       1753  48   0    0\n",
       "1          3  43   0    0\n",
       "2          0   0  19   47\n",
       "3          0   0   6  479"
      ]
     },
     "execution_count": 37,
     "metadata": {},
     "output_type": "execute_result"
    }
   ],
   "source": [
    "p = 0.5\n",
    "wd = 1e-4\n",
    "lr = 1e-4\n",
    "seed = 1\n",
    "\n",
    "model_data_root_dir = f\"/home/thiennguyen/research/pseudogroups/CUB/splitpgl_sweep_logs/p{p}_wd{wd}_lr{lr}_s{seed}/part1\"\n",
    "model_epoch = 10\n",
    "part1_model_path = f\"{model_data_root_dir}/{model_epoch}_model.pth\"\n",
    "data_path = f\"{model_data_root_dir}/part1and2_data\"\n",
    "log_dir = f\"{model_data_root_dir}/pgl_analysis\"\n",
    "\n",
    "run_eval_data_on_model(part1_model_path, data_path, log_dir)"
   ]
  },
  {
   "cell_type": "code",
   "execution_count": 47,
   "id": "77484a6f",
   "metadata": {},
   "outputs": [
    {
     "name": "stdout",
     "output_type": "stream",
     "text": [
      "group_count: \t[1756, 91, 25, 526]\n",
      "recall: \t[1.0, 0.47, 0.76, 0.91]\n",
      "precision: \t[0.97, 0.93, 0.29, 0.99]\n"
     ]
    }
   ],
   "source": []
  },
  {
   "cell_type": "code",
   "execution_count": 5,
   "id": "43d7779c",
   "metadata": {},
   "outputs": [
    {
     "data": {
      "text/html": [
       "<div>\n",
       "<style scoped>\n",
       "    .dataframe tbody tr th:only-of-type {\n",
       "        vertical-align: middle;\n",
       "    }\n",
       "\n",
       "    .dataframe tbody tr th {\n",
       "        vertical-align: top;\n",
       "    }\n",
       "\n",
       "    .dataframe thead th {\n",
       "        text-align: right;\n",
       "    }\n",
       "</style>\n",
       "<table border=\"1\" class=\"dataframe\">\n",
       "  <thead>\n",
       "    <tr style=\"text-align: right;\">\n",
       "      <th></th>\n",
       "      <th>Unnamed: 0</th>\n",
       "      <th>y_pred</th>\n",
       "      <th>y_true</th>\n",
       "      <th>indices</th>\n",
       "      <th>g_true</th>\n",
       "      <th>pred_prob_0</th>\n",
       "      <th>pred_prob_1</th>\n",
       "    </tr>\n",
       "  </thead>\n",
       "  <tbody>\n",
       "    <tr>\n",
       "      <th>0</th>\n",
       "      <td>0</td>\n",
       "      <td>0</td>\n",
       "      <td>0</td>\n",
       "      <td>7089</td>\n",
       "      <td>0</td>\n",
       "      <td>1.591131</td>\n",
       "      <td>-1.550143</td>\n",
       "    </tr>\n",
       "    <tr>\n",
       "      <th>1</th>\n",
       "      <td>1</td>\n",
       "      <td>0</td>\n",
       "      <td>0</td>\n",
       "      <td>5599</td>\n",
       "      <td>0</td>\n",
       "      <td>2.486492</td>\n",
       "      <td>-2.085317</td>\n",
       "    </tr>\n",
       "    <tr>\n",
       "      <th>2</th>\n",
       "      <td>2</td>\n",
       "      <td>0</td>\n",
       "      <td>0</td>\n",
       "      <td>11008</td>\n",
       "      <td>0</td>\n",
       "      <td>2.010336</td>\n",
       "      <td>-1.709602</td>\n",
       "    </tr>\n",
       "    <tr>\n",
       "      <th>3</th>\n",
       "      <td>3</td>\n",
       "      <td>1</td>\n",
       "      <td>1</td>\n",
       "      <td>5890</td>\n",
       "      <td>3</td>\n",
       "      <td>-0.482630</td>\n",
       "      <td>0.736747</td>\n",
       "    </tr>\n",
       "    <tr>\n",
       "      <th>4</th>\n",
       "      <td>4</td>\n",
       "      <td>0</td>\n",
       "      <td>1</td>\n",
       "      <td>4991</td>\n",
       "      <td>2</td>\n",
       "      <td>0.787146</td>\n",
       "      <td>-0.974922</td>\n",
       "    </tr>\n",
       "    <tr>\n",
       "      <th>...</th>\n",
       "      <td>...</td>\n",
       "      <td>...</td>\n",
       "      <td>...</td>\n",
       "      <td>...</td>\n",
       "      <td>...</td>\n",
       "      <td>...</td>\n",
       "      <td>...</td>\n",
       "    </tr>\n",
       "    <tr>\n",
       "      <th>2393</th>\n",
       "      <td>2393</td>\n",
       "      <td>0</td>\n",
       "      <td>0</td>\n",
       "      <td>7007</td>\n",
       "      <td>0</td>\n",
       "      <td>2.785468</td>\n",
       "      <td>-2.244950</td>\n",
       "    </tr>\n",
       "    <tr>\n",
       "      <th>2394</th>\n",
       "      <td>2394</td>\n",
       "      <td>0</td>\n",
       "      <td>0</td>\n",
       "      <td>6697</td>\n",
       "      <td>0</td>\n",
       "      <td>0.654927</td>\n",
       "      <td>-0.834275</td>\n",
       "    </tr>\n",
       "    <tr>\n",
       "      <th>2395</th>\n",
       "      <td>2395</td>\n",
       "      <td>0</td>\n",
       "      <td>0</td>\n",
       "      <td>2101</td>\n",
       "      <td>0</td>\n",
       "      <td>2.683824</td>\n",
       "      <td>-2.309115</td>\n",
       "    </tr>\n",
       "    <tr>\n",
       "      <th>2396</th>\n",
       "      <td>2396</td>\n",
       "      <td>0</td>\n",
       "      <td>0</td>\n",
       "      <td>9764</td>\n",
       "      <td>0</td>\n",
       "      <td>2.117131</td>\n",
       "      <td>-1.985194</td>\n",
       "    </tr>\n",
       "    <tr>\n",
       "      <th>2397</th>\n",
       "      <td>2397</td>\n",
       "      <td>0</td>\n",
       "      <td>0</td>\n",
       "      <td>530</td>\n",
       "      <td>0</td>\n",
       "      <td>2.069762</td>\n",
       "      <td>-1.561581</td>\n",
       "    </tr>\n",
       "  </tbody>\n",
       "</table>\n",
       "<p>2398 rows × 7 columns</p>\n",
       "</div>"
      ],
      "text/plain": [
       "      Unnamed: 0  y_pred  y_true  indices  g_true  pred_prob_0  pred_prob_1\n",
       "0              0       0       0     7089       0     1.591131    -1.550143\n",
       "1              1       0       0     5599       0     2.486492    -2.085317\n",
       "2              2       0       0    11008       0     2.010336    -1.709602\n",
       "3              3       1       1     5890       3    -0.482630     0.736747\n",
       "4              4       0       1     4991       2     0.787146    -0.974922\n",
       "...          ...     ...     ...      ...     ...          ...          ...\n",
       "2393        2393       0       0     7007       0     2.785468    -2.244950\n",
       "2394        2394       0       0     6697       0     0.654927    -0.834275\n",
       "2395        2395       0       0     2101       0     2.683824    -2.309115\n",
       "2396        2396       0       0     9764       0     2.117131    -1.985194\n",
       "2397        2397       0       0      530       0     2.069762    -1.561581\n",
       "\n",
       "[2398 rows x 7 columns]"
      ]
     },
     "execution_count": 5,
     "metadata": {},
     "output_type": "execute_result"
    }
   ],
   "source": [
    "0.9982915717539863\n",
    "0.4725274725274725\n",
    "0.76\n",
    "0.91"
   ]
  },
  {
   "cell_type": "code",
   "execution_count": null,
   "id": "a17b3992",
   "metadata": {},
   "outputs": [],
   "source": []
  }
 ],
 "metadata": {
  "kernelspec": {
   "display_name": "Python 3 (ipykernel)",
   "language": "python",
   "name": "python3"
  },
  "language_info": {
   "codemirror_mode": {
    "name": "ipython",
    "version": 3
   },
   "file_extension": ".py",
   "mimetype": "text/x-python",
   "name": "python",
   "nbconvert_exporter": "python",
   "pygments_lexer": "ipython3",
   "version": "3.8.11"
  },
  "varInspector": {
   "cols": {
    "lenName": 16,
    "lenType": 16,
    "lenVar": 40
   },
   "kernels_config": {
    "python": {
     "delete_cmd_postfix": "",
     "delete_cmd_prefix": "del ",
     "library": "var_list.py",
     "varRefreshCmd": "print(var_dic_list())"
    },
    "r": {
     "delete_cmd_postfix": ") ",
     "delete_cmd_prefix": "rm(",
     "library": "var_list.r",
     "varRefreshCmd": "cat(var_dic_list()) "
    }
   },
   "types_to_exclude": [
    "module",
    "function",
    "builtin_function_or_method",
    "instance",
    "_Feature"
   ],
   "window_display": false
  }
 },
 "nbformat": 4,
 "nbformat_minor": 5
}
